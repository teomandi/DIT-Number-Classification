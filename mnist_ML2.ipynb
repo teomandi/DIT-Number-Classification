{
 "cells": [
  {
   "cell_type": "markdown",
   "metadata": {},
   "source": [
    "## Imports"
   ]
  },
  {
   "cell_type": "code",
   "execution_count": 78,
   "metadata": {},
   "outputs": [],
   "source": [
    "import keras\n",
    "import pickle\n",
    "import matplotlib.pyplot as plt\n",
    "import time\n",
    "import numpy as np\n",
    "\n",
    "import keras.layers as l\n",
    "import keras.backend as K\n",
    "\n",
    "import keras.optimizers as o\n",
    "import keras.models as m\n",
    "from keras.utils import to_categorical\n"
   ]
  },
  {
   "cell_type": "markdown",
   "metadata": {},
   "source": [
    "## Load the dataset"
   ]
  },
  {
   "cell_type": "code",
   "execution_count": 71,
   "metadata": {},
   "outputs": [],
   "source": [
    "# 28x28 images of hand wirtten digits 0-9\n",
    "\n",
    "mnist = keras.datasets.mnist \n",
    "(x_train, y_train), (x_test, y_test) = mnist.load_data()"
   ]
  },
  {
   "cell_type": "code",
   "execution_count": 72,
   "metadata": {},
   "outputs": [],
   "source": [
    "# normalize it\n",
    "x_train = keras.utils.normalize(x_train, axis=1)\n",
    "x_test = keras.utils.normalize(x_test, axis=1)\n",
    "\n",
    "y_train = to_categorical(y_train.reshape([-1, 1])) # without this need sparse categoricaly\n",
    "y_test = to_categorical(y_test.reshape([-1, 1]))"
   ]
  },
  {
   "cell_type": "code",
   "execution_count": 73,
   "metadata": {},
   "outputs": [
    {
     "name": "stdout",
     "output_type": "stream",
     "text": [
      "(60000, 28, 28)\n",
      "(10000, 28, 28)\n"
     ]
    },
    {
     "data": {
      "image/png": "[encoded data removed]",
      "text/plain": [
       "<Figure size 432x288 with 1 Axes>"
      ]
     },
     "metadata": {
      "needs_background": "light"
     },
     "output_type": "display_data"
    }
   ],
   "source": [
    "print(x_train.shape)\n",
    "print(x_test.shape)\n",
    "\n",
    "# print(x_train[0])\n",
    "\n",
    "plt.imshow(x_train[0])\n",
    "plt.show()"
   ]
  },
  {
   "cell_type": "code",
   "execution_count": 85,
   "metadata": {},
   "outputs": [],
   "source": [
    "\n",
    "# function to obtain grads for each parameter\n",
    "def get_gradients(model, inputs, outputs):\n",
    "    grads = model.optimizer.get_gradients(model.total_loss, model.trainable_weights)\n",
    "    symb_inputs = (model._feed_inputs + model._feed_targets + model._feed_sample_weights)\n",
    "    f = K.function(symb_inputs, grads)\n",
    "    x, y, weight = model._standardize_user_data(inputs, outputs)\n",
    "    output_grad = f(x + y + weight)\n",
    "    return np.array(output_grad)"
   ]
  },
  {
   "cell_type": "markdown",
   "metadata": {},
   "source": [
    "## Set some parameters "
   ]
  },
  {
   "cell_type": "code",
   "execution_count": 67,
   "metadata": {},
   "outputs": [],
   "source": [
    "hidden_layers = [5, 20, 40]\n",
    "activation_functions = [\"relu\", \"tanh\", \"sigmoid\"] "
   ]
  },
  {
   "cell_type": "markdown",
   "metadata": {},
   "source": [
    "## Create the networks"
   ]
  },
  {
   "cell_type": "code",
   "execution_count": 121,
   "metadata": {},
   "outputs": [
    {
     "name": "stdout",
     "output_type": "stream",
     "text": [
      "---Model overview: Hidden layers:  40  Activation Function:  relu\n",
      "Train on 60000 samples, validate on 10000 samples\n",
      "Epoch 1/3\n",
      "60000/60000 [==============================] - 3s 55us/step - loss: 2.3012 - accuracy: 0.1117 - val_loss: 2.3001 - val_accuracy: 0.1135\n",
      "Epoch 2/3\n",
      "60000/60000 [==============================] - 3s 53us/step - loss: 2.2913 - accuracy: 0.1205 - val_loss: 2.2410 - val_accuracy: 0.1872\n",
      "Epoch 3/3\n",
      "60000/60000 [==============================] - 3s 54us/step - loss: 1.7283 - accuracy: 0.3077 - val_loss: 1.3269 - val_accuracy: 0.4501\n",
      "------------------------Model time:  10.675672769546509\n",
      "---Model overview: Hidden layers:  40  Activation Function:  tanh\n",
      "Train on 60000 samples, validate on 10000 samples\n",
      "Epoch 1/3\n",
      "60000/60000 [==============================] - 3s 54us/step - loss: 0.9894 - accuracy: 0.6968 - val_loss: 0.5356 - val_accuracy: 0.8436\n",
      "Epoch 2/3\n",
      "60000/60000 [==============================] - 3s 49us/step - loss: 0.4413 - accuracy: 0.8763 - val_loss: 0.3584 - val_accuracy: 0.9073\n",
      "Epoch 3/3\n",
      "60000/60000 [==============================] - 3s 48us/step - loss: 0.3422 - accuracy: 0.9061 - val_loss: 0.2945 - val_accuracy: 0.9191\n",
      "------------------------Model time:  10.120686054229736\n",
      "---Model overview: Hidden layers:  40  Activation Function:  sigmoid\n",
      "Train on 60000 samples, validate on 10000 samples\n",
      "Epoch 1/3\n",
      "60000/60000 [==============================] - 3s 54us/step - loss: 2.3062 - accuracy: 0.1099 - val_loss: 2.3015 - val_accuracy: 0.1135\n",
      "Epoch 2/3\n",
      "60000/60000 [==============================] - 3s 51us/step - loss: 2.3020 - accuracy: 0.1104 - val_loss: 2.3013 - val_accuracy: 0.1135\n",
      "Epoch 3/3\n",
      "60000/60000 [==============================] - 3s 51us/step - loss: 2.3021 - accuracy: 0.1115 - val_loss: 2.3016 - val_accuracy: 0.1135\n",
      "------------------------Model time:  10.398481369018555\n",
      "Total time:  33.2616012096405\n"
     ]
    }
   ],
   "source": [
    "start_t = time.time()\n",
    "all_max_grads = {}\n",
    "\n",
    "# for hlayers in hidden_layers:\n",
    "    \n",
    "for af in activation_functions:\n",
    "    model_t = time.time()\n",
    "    print(\"---Model overview: Hidden layers: \", hlayers, \" Activation Function: \", af)\n",
    "\n",
    "    model = m.Sequential()\n",
    "#     model.add(l.Flatten()) ## no flatten is asked!!!\n",
    "\n",
    "    # hidden layers\n",
    "    for i in range(20):\n",
    "        model.add(l.Dense(32, input_shape=(28,28), activation=af))# activation_function))\n",
    "\n",
    "    # output layer\n",
    "    model.add(l.Dense(10, activation='softmax'))\n",
    "    sgd = o.SGD(lr=0.01)\n",
    "\n",
    "\n",
    "    model.compile(\n",
    "        optimizer=sgd,\n",
    "        loss='categorical_crossentropy',\n",
    "        metrics=['accuracy']\n",
    "    )\n",
    "\n",
    "    model.fit(x_train, y_train, epochs=3, validation_data = (x_test,y_test))\n",
    "\n",
    "    print(\"------------------------Model time: \", time.time()-model_t)\n",
    "    \n",
    "    # store max grads for the plots\n",
    "    grads = get_gradients(model, x_train[0:1], y_train[0:1])\n",
    "    max_grads = []\n",
    "    for i,_ in enumerate(grads):\n",
    "        if(i % 2 == 0 or i==len(grads)-1):\n",
    "            continue\n",
    "        max_grads.append(np.max(grads[i]))\n",
    "    \n",
    "    all_max_grads[af] = max_grads\n",
    "    \n",
    "        \n",
    "print(\"Total time: \", time.time() - start_t)"
   ]
  },
  {
   "cell_type": "code",
   "execution_count": 120,
   "metadata": {},
   "outputs": [
    {
     "data": {
      "image/png": "[encoded data removed]",
      "text/plain": [
       "<Figure size 432x288 with 1 Axes>"
      ]
     },
     "metadata": {
      "needs_background": "light"
     },
     "output_type": "display_data"
    }
   ],
   "source": [
    "# 5\n",
    "colors = ['r','b', 'g']\n",
    "for i,af_grads in enumerate(all_max_grads):\n",
    "    plt.plot(range(1, len(all_max_grads[af_grads])+1), all_max_grads[af_grads], colors[i],  label=af_grads)\n",
    "    \n",
    "plt.ylabel('max grads')\n",
    "plt.xlabel('layer number')\n",
    "plt.legend()\n",
    "plt.show()"
   ]
  },
  {
   "cell_type": "code",
   "execution_count": 122,
   "metadata": {},
   "outputs": [
    {
     "data": {
      "image/png": "[encoded data removed]",
      "text/plain": [
       "<Figure size 432x288 with 1 Axes>"
      ]
     },
     "metadata": {
      "needs_background": "light"
     },
     "output_type": "display_data"
    }
   ],
   "source": [
    "# 20\n",
    "colors = ['r','b', 'g']\n",
    "for i,af_grads in enumerate(all_max_grads):\n",
    "    plt.plot(range(1, len(all_max_grads[af_grads])+1), all_max_grads[af_grads], colors[i],  label=af_grads)\n",
    "    \n",
    "plt.ylabel('max grads')\n",
    "plt.xlabel('layer number')\n",
    "plt.legend()\n",
    "plt.show()"
   ]
  },
  {
   "cell_type": "code",
   "execution_count": 118,
   "metadata": {},
   "outputs": [
    {
     "data": {
      "image/png": "[encoded data removed]",
      "text/plain": [
       "<Figure size 432x288 with 1 Axes>"
      ]
     },
     "metadata": {
      "needs_background": "light"
     },
     "output_type": "display_data"
    }
   ],
   "source": [
    "# 40\n",
    "colors = ['r','b', 'g']\n",
    "for i,af_grads in enumerate(all_max_grads):\n",
    "    plt.plot(range(1, len(all_max_grads[af_grads])+1), all_max_grads[af_grads], colors[i],  label=af_grads)\n",
    "    \n",
    "plt.ylabel('max grads')\n",
    "plt.xlabel('layer number')\n",
    "plt.legend()\n",
    "plt.show()"
   ]
  },
  {
   "cell_type": "markdown",
   "metadata": {},
   "source": [
    "## LeCunn"
   ]
  },
  {
   "cell_type": "code",
   "execution_count": 132,
   "metadata": {},
   "outputs": [],
   "source": [
    "def leCunn_af(x):\n",
    "    return 1.7159 * K.tanh((2/3)*x)+0.01*x "
   ]
  },
  {
   "cell_type": "code",
   "execution_count": 133,
   "metadata": {},
   "outputs": [
    {
     "name": "stdout",
     "output_type": "stream",
     "text": [
      "---Model overview: Hidden layers:  40  Activation Function:  sigmoid\n",
      "Train on 60000 samples, validate on 10000 samples\n",
      "Epoch 1/3\n",
      "60000/60000 [==============================] - 4s 70us/step - loss: 0.5876 - accuracy: 0.8244 - val_loss: 0.3313 - val_accuracy: 0.9083\n",
      "Epoch 2/3\n",
      "60000/60000 [==============================] - 4s 65us/step - loss: 0.2990 - accuracy: 0.9136 - val_loss: 0.2695 - val_accuracy: 0.9221\n",
      "Epoch 3/3\n",
      "60000/60000 [==============================] - 4s 61us/step - loss: 0.2456 - accuracy: 0.9273 - val_loss: 0.2394 - val_accuracy: 0.9302\n",
      "------------------------Model time:  14.05679440498352\n"
     ]
    }
   ],
   "source": [
    "model_t = time.time()\n",
    "print(\"---Model overview: Hidden layers: \", hlayers, \" Activation Function: \", af)\n",
    "\n",
    "model = m.Sequential()\n",
    "model.add(l.Flatten())\n",
    "\n",
    "# hidden layers\n",
    "for i in range(20):\n",
    "    model.add(l.Dense(32, input_shape=(28,28), activation=leCunn_af))\n",
    "\n",
    "# output layer\n",
    "model.add(l.Dense(10, activation='softmax'))\n",
    "sgd = o.SGD(lr=0.01)\n",
    "\n",
    "\n",
    "model.compile(\n",
    "    optimizer=sgd,\n",
    "    loss='categorical_crossentropy',\n",
    "    metrics=['accuracy']\n",
    ")\n",
    "\n",
    "model.fit(x_train, y_train, epochs=3, validation_data = (x_test,y_test))\n",
    "\n",
    "print(\"------------------------Model time: \", time.time()-model_t)"
   ]
  },
  {
   "cell_type": "code",
   "execution_count": 136,
   "metadata": {},
   "outputs": [
    {
     "name": "stderr",
     "output_type": "stream",
     "text": [
      "No handles with labels found to put in legend.\n"
     ]
    },
    {
     "data": {
      "image/png": "[encoded data removed]",
      "text/plain": [
       "<Figure size 432x288 with 1 Axes>"
      ]
     },
     "metadata": {
      "needs_background": "light"
     },
     "output_type": "display_data"
    }
   ],
   "source": [
    "grads = get_gradients(model, x_train[0:1], y_train[0:1])\n",
    "max_grads = []\n",
    "for i,_ in enumerate(grads):\n",
    "    if(i % 2 == 0 or i==len(grads)-1):\n",
    "        continue\n",
    "    max_grads.append(np.max(grads[i]))\n",
    "\n",
    "    \n",
    "plt.plot(range(1, len(max_grads)+1), max_grads, 'y')\n",
    "    \n",
    "plt.ylabel('max grads')\n",
    "plt.xlabel('layer number')\n",
    "plt.legend()\n",
    "plt.show()\n",
    "\n",
    "        "
   ]
  },
  {
   "cell_type": "markdown",
   "metadata": {},
   "source": [
    "## test for geo at 10 epochs"
   ]
  },
  {
   "cell_type": "code",
   "execution_count": 75,
   "metadata": {},
   "outputs": [
    {
     "name": "stdout",
     "output_type": "stream",
     "text": [
      "---Model overview: Hidden layers:  40  Activation Function:  sigmoid\n",
      "Train on 60000 samples, validate on 10000 samples\n",
      "Epoch 1/10\n",
      "60000/60000 [==============================] - 3s 51us/step - loss: 2.2672 - accuracy: 0.1463 - val_loss: 2.0507 - val_accuracy: 0.2106\n",
      "Epoch 2/10\n",
      "60000/60000 [==============================] - 3s 47us/step - loss: 1.6391 - accuracy: 0.3179 - val_loss: 1.4816 - val_accuracy: 0.3810\n",
      "Epoch 3/10\n",
      "60000/60000 [==============================] - 3s 50us/step - loss: 1.1116 - accuracy: 0.5664 - val_loss: 0.8373 - val_accuracy: 0.6938\n",
      "Epoch 4/10\n",
      "60000/60000 [==============================] - 3s 48us/step - loss: 0.6838 - accuracy: 0.7861 - val_loss: 0.5415 - val_accuracy: 0.8649\n",
      "Epoch 5/10\n",
      "60000/60000 [==============================] - 3s 47us/step - loss: 0.4464 - accuracy: 0.8844 - val_loss: 0.3528 - val_accuracy: 0.9113\n",
      "Epoch 6/10\n",
      "60000/60000 [==============================] - 3s 47us/step - loss: 0.3400 - accuracy: 0.9137 - val_loss: 0.3105 - val_accuracy: 0.9267\n",
      "Epoch 7/10\n",
      "60000/60000 [==============================] - 3s 47us/step - loss: 0.2883 - accuracy: 0.9262 - val_loss: 0.2784 - val_accuracy: 0.9317\n",
      "Epoch 8/10\n",
      "60000/60000 [==============================] - 3s 48us/step - loss: 0.2593 - accuracy: 0.9346 - val_loss: 0.2548 - val_accuracy: 0.9363\n",
      "Epoch 9/10\n",
      "60000/60000 [==============================] - 3s 47us/step - loss: 0.2333 - accuracy: 0.9397 - val_loss: 0.2454 - val_accuracy: 0.9391\n",
      "Epoch 10/10\n",
      "60000/60000 [==============================] - 3s 48us/step - loss: 0.2180 - accuracy: 0.9424 - val_loss: 0.2399 - val_accuracy: 0.9367\n",
      "------------------------Model time:  29.7897047996521\n"
     ]
    }
   ],
   "source": [
    "model_t = time.time()\n",
    "print(\"---Model overview: Hidden layers: \", hlayers, \" Activation Function: \", af)\n",
    "\n",
    "model = m.Sequential()\n",
    "model.add(l.Flatten())\n",
    "\n",
    "# hidden layers\n",
    "for i in range(20):\n",
    "    model.add(l.Dense(32, input_shape=(28,28), activation='relu'))# activation_function))\n",
    "\n",
    "# output layer\n",
    "model.add(l.Dense(10, activation='softmax'))\n",
    "sgd = o.SGD(lr=0.01)\n",
    "\n",
    "\n",
    "model.compile(\n",
    "    optimizer=sgd,\n",
    "    loss='categorical_crossentropy',\n",
    "    metrics=['accuracy']\n",
    ")\n",
    "\n",
    "model.fit(x_train, y_train, epochs=10, validation_data = (x_test,y_test))\n",
    "\n",
    "print(\"------------------------Model time: \", time.time()-model_t)"
   ]
  },
  {
   "cell_type": "code",
   "execution_count": 76,
   "metadata": {},
   "outputs": [],
   "source": []
  },
  {
   "cell_type": "code",
   "execution_count": 79,
   "metadata": {},
   "outputs": [],
   "source": []
  },
  {
   "cell_type": "code",
   "execution_count": 81,
   "metadata": {},
   "outputs": [
    {
     "name": "stdout",
     "output_type": "stream",
     "text": [
      "shape:  (42,)\n",
      "---\n",
      "1 layer  (32,)\n",
      "max of  1  is:  0.75207615\n",
      "3 layer  (32,)\n",
      "max of  3  is:  0.58213687\n",
      "5 layer  (32,)\n",
      "max of  5  is:  0.45399648\n",
      "7 layer  (32,)\n",
      "max of  7  is:  0.40871465\n",
      "9 layer  (32,)\n",
      "max of  9  is:  0.45888668\n",
      "11 layer  (32,)\n",
      "max of  11  is:  0.43653584\n",
      "13 layer  (32,)\n",
      "max of  13  is:  0.32461357\n",
      "15 layer  (32,)\n",
      "max of  15  is:  0.3119303\n",
      "17 layer  (32,)\n",
      "max of  17  is:  0.23301727\n",
      "19 layer  (32,)\n",
      "max of  19  is:  0.39234194\n",
      "21 layer  (32,)\n",
      "max of  21  is:  0.35182214\n",
      "23 layer  (32,)\n",
      "max of  23  is:  0.31854022\n",
      "25 layer  (32,)\n",
      "max of  25  is:  0.24456888\n",
      "27 layer  (32,)\n",
      "max of  27  is:  0.24219668\n",
      "29 layer  (32,)\n",
      "max of  29  is:  0.13335884\n",
      "31 layer  (32,)\n",
      "max of  31  is:  0.14200322\n",
      "33 layer  (32,)\n",
      "max of  33  is:  0.13032338\n",
      "35 layer  (32,)\n",
      "max of  35  is:  0.08454664\n",
      "37 layer  (32,)\n",
      "max of  37  is:  0.10113288\n",
      "39 layer  (32,)\n",
      "max of  39  is:  0.06871333\n",
      "41 layer  (10,)\n",
      "max of  41  is:  0.06891517\n"
     ]
    }
   ],
   "source": []
  },
  {
   "cell_type": "code",
   "execution_count": null,
   "metadata": {},
   "outputs": [],
   "source": []
  }
 ],
 "metadata": {
  "kernelspec": {
   "display_name": "Python 3",
   "language": "python",
   "name": "python3"
  },
  "language_info": {
   "codemirror_mode": {
    "name": "ipython",
    "version": 3
   },
   "file_extension": ".py",
   "mimetype": "text/x-python",
   "name": "python",
   "nbconvert_exporter": "python",
   "pygments_lexer": "ipython3",
   "version": "3.7.3"
  }
 },
 "nbformat": 4,
 "nbformat_minor": 2
}
