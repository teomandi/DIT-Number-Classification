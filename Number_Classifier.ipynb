{
 "cells": [
  {
   "cell_type": "code",
   "execution_count": 88,
   "metadata": {},
   "outputs": [],
   "source": [
    "import pickle\n",
    "import matplotlib.pyplot as plt\n",
    "import time\n",
    "import numpy as np\n",
    "import cv2\n",
    "import time\n",
    "\n",
    "import tensorflow.keras.layers as l\n",
    "import tensorflow.keras.backend as K\n",
    "\n",
    "import tensorflow.keras.optimizers as o\n",
    "import tensorflow.keras.models as m\n",
    "from tensorflow.keras.callbacks import TensorBoard\n",
    "from tensorflow.keras.utils import to_categorical"
   ]
  },
  {
   "cell_type": "code",
   "execution_count": 83,
   "metadata": {},
   "outputs": [],
   "source": [
    "mnist = keras.datasets.mnist \n",
    "(x_train, y_train), (x_test, y_test) = mnist.load_data()\n",
    "\n",
    "x_train = keras.utils.normalize(x_train, axis=1)\n",
    "x_test = keras.utils.normalize(x_test, axis=1)\n",
    "\n",
    "x_train = x_train.reshape([-1, 28, 28, 1])\n",
    "x_test = x_test.reshape([-1, 28, 28, 1])\n",
    "\n",
    "\n",
    "y_train = to_categorical(y_train)\n",
    "y_test = to_categorical(y_test)"
   ]
  },
  {
   "cell_type": "markdown",
   "metadata": {},
   "source": [
    "---"
   ]
  },
  {
   "cell_type": "markdown",
   "metadata": {},
   "source": [
    "## Augmente the Dataset"
   ]
  },
  {
   "cell_type": "code",
   "execution_count": 84,
   "metadata": {},
   "outputs": [
    {
     "data": {
      "image/png": "[encoded data removed]",
      "text/plain": [
       "<Figure size 432x288 with 1 Axes>"
      ]
     },
     "metadata": {
      "needs_background": "light"
     },
     "output_type": "display_data"
    },
    {
     "data": {
      "text/plain": [
       "array([[0., 0., 0., ..., 0., 0., 0.],\n",
       "       [0., 0., 0., ..., 0., 0., 0.],\n",
       "       [0., 0., 0., ..., 0., 0., 0.],\n",
       "       ...,\n",
       "       [0., 0., 0., ..., 0., 0., 0.],\n",
       "       [0., 0., 0., ..., 0., 0., 0.],\n",
       "       [0., 0., 0., ..., 0., 0., 0.]])"
      ]
     },
     "execution_count": 84,
     "metadata": {},
     "output_type": "execute_result"
    }
   ],
   "source": [
    "# create rotated image\n",
    "def rotate_image(image, deggress):\n",
    "    height, width = image.shape[:2]\n",
    "    rotation_matrix = cv2.getRotationMatrix2D((width/2,height/2), deggress ,1)\n",
    "    \n",
    "    rotated_image = cv2.warpAffine(image, rotation_matrix, (width, height))\n",
    "    \n",
    "    plt.imshow(rotated_image)\n",
    "    plt.show()\n",
    "    \n",
    "    return rotated_image\n",
    "\n",
    "# scale image % of the origina\n",
    "def scale_image(image, px, py):\n",
    "    scaled_image = cv2.resize(image, None, fx=px, fy=py, interpolation=cv2.INTER_CUBIC) # INTER_CUBIC # INTER_AREA\n",
    "    plt.imshow(scaled_image)\n",
    "    plt.show()\n",
    "    return scaled_image\n",
    "\n",
    "#image pyramids using cv2.pyrDown(img) or cv2.pyrUp(img)\n",
    "\n",
    "\n",
    "scale_image(x_train[0], 1.5, 1.5)"
   ]
  },
  {
   "cell_type": "markdown",
   "metadata": {},
   "source": [
    "## Make the Network"
   ]
  },
  {
   "cell_type": "code",
   "execution_count": 85,
   "metadata": {},
   "outputs": [
    {
     "name": "stdout",
     "output_type": "stream",
     "text": [
      "Model: \"sequential\"\n",
      "_________________________________________________________________\n",
      "Layer (type)                 Output Shape              Param #   \n",
      "=================================================================\n",
      "conv2d (Conv2D)              (None, 28, 28, 49)        490       \n",
      "_________________________________________________________________\n",
      "max_pooling2d (MaxPooling2D) (None, 9, 9, 49)          0         \n",
      "_________________________________________________________________\n",
      "conv2d_1 (Conv2D)            (None, 9, 9, 36)          15912     \n",
      "_________________________________________________________________\n",
      "max_pooling2d_1 (MaxPooling2 (None, 3, 3, 36)          0         \n",
      "_________________________________________________________________\n",
      "flatten (Flatten)            (None, 324)               0         \n",
      "_________________________________________________________________\n",
      "dense (Dense)                (None, 32)                10400     \n",
      "_________________________________________________________________\n",
      "dropout (Dropout)            (None, 32)                0         \n",
      "_________________________________________________________________\n",
      "dense_1 (Dense)              (None, 64)                2112      \n",
      "_________________________________________________________________\n",
      "dense_2 (Dense)              (None, 10)                650       \n",
      "=================================================================\n",
      "Total params: 29,564\n",
      "Trainable params: 29,564\n",
      "Non-trainable params: 0\n",
      "_________________________________________________________________\n"
     ]
    }
   ],
   "source": [
    "model = m.Sequential()\n",
    "\n",
    "model.add(l.Conv2D(49, (3,3), padding='same', activation='relu', input_shape = (28,28,1)))\n",
    "model.add(l.MaxPooling2D((3,3)))\n",
    "model.add(l.Conv2D(36, (3,3), padding='same', activation='relu'))\n",
    "model.add(l.MaxPooling2D((3,3)))\n",
    "\n",
    "model.add(l.Flatten())\n",
    "model.add(l.Dense(32, activation=\"relu\"))\n",
    "model.add(l.Dropout(rate=0.5))\n",
    "model.add(l.Dense(64, activation=\"relu\"))\n",
    "\n",
    "model.add(l.Dense(10, activation='softmax'))\n",
    "\n",
    "model.compile(\n",
    "    optimizer='adam',\n",
    "    loss='categorical_crossentropy',\n",
    "    metrics=['accuracy']\n",
    ")\n",
    "model.summary()"
   ]
  },
  {
   "cell_type": "code",
   "execution_count": 92,
   "metadata": {},
   "outputs": [],
   "source": [
    "name = \"tf_{}.log\".format(int(time.time()))\n",
    "# print(name)\n",
    "tensorboard = TensorBoard(log_dir='logs/{}'.format(name))"
   ]
  },
  {
   "cell_type": "code",
   "execution_count": 94,
   "metadata": {},
   "outputs": [
    {
     "name": "stdout",
     "output_type": "stream",
     "text": [
      "Train on 60000 samples, validate on 10000 samples\n",
      "Epoch 1/10\n",
      "60000/60000 [==============================] - 20s 339us/sample - loss: 0.1327 - accuracy: 0.9586 - val_loss: 0.0623 - val_accuracy: 0.9816\n",
      "Epoch 2/10\n",
      "60000/60000 [==============================] - 21s 349us/sample - loss: 0.1279 - accuracy: 0.9603 - val_loss: 0.0533 - val_accuracy: 0.9836\n",
      "Epoch 3/10\n",
      "60000/60000 [==============================] - 22s 365us/sample - loss: 0.1242 - accuracy: 0.9607 - val_loss: 0.0697 - val_accuracy: 0.9809\n",
      "Epoch 4/10\n",
      "60000/60000 [==============================] - 22s 361us/sample - loss: 0.1220 - accuracy: 0.9618 - val_loss: 0.0664 - val_accuracy: 0.9807\n",
      "Epoch 5/10\n",
      "60000/60000 [==============================] - 21s 355us/sample - loss: 0.1120 - accuracy: 0.9657 - val_loss: 0.0584 - val_accuracy: 0.9829\n",
      "Epoch 6/10\n",
      "60000/60000 [==============================] - 20s 336us/sample - loss: 0.1091 - accuracy: 0.9659 - val_loss: 0.0658 - val_accuracy: 0.9825\n",
      "Epoch 7/10\n",
      "60000/60000 [==============================] - 20s 340us/sample - loss: 0.1071 - accuracy: 0.9661 - val_loss: 0.0562 - val_accuracy: 0.9834\n",
      "Epoch 8/10\n",
      "60000/60000 [==============================] - 20s 334us/sample - loss: 0.1031 - accuracy: 0.9673 - val_loss: 0.0583 - val_accuracy: 0.9836\n",
      "Epoch 9/10\n",
      "60000/60000 [==============================] - 21s 356us/sample - loss: 0.0951 - accuracy: 0.9699 - val_loss: 0.0686 - val_accuracy: 0.9787\n",
      "Epoch 10/10\n",
      "60000/60000 [==============================] - 20s 325us/sample - loss: 0.0926 - accuracy: 0.9706 - val_loss: 0.1001 - val_accuracy: 0.9703\n"
     ]
    },
    {
     "data": {
      "text/plain": [
       "<tensorflow.python.keras.callbacks.History at 0x7fc3b14bf160>"
      ]
     },
     "execution_count": 94,
     "metadata": {},
     "output_type": "execute_result"
    }
   ],
   "source": [
    "model.fit(x_train, y_train, epochs=10, callbacks=[tensorboard], validation_data = (x_test,y_test))\n"
   ]
  },
  {
   "cell_type": "code",
   "execution_count": null,
   "metadata": {},
   "outputs": [],
   "source": []
  },
  {
   "cell_type": "code",
   "execution_count": null,
   "metadata": {},
   "outputs": [],
   "source": []
  },
  {
   "cell_type": "code",
   "execution_count": null,
   "metadata": {},
   "outputs": [],
   "source": []
  },
  {
   "cell_type": "code",
   "execution_count": null,
   "metadata": {},
   "outputs": [],
   "source": []
  },
  {
   "cell_type": "code",
   "execution_count": null,
   "metadata": {},
   "outputs": [],
   "source": []
  }
 ],
 "metadata": {
  "kernelspec": {
   "display_name": "Python 3",
   "language": "python",
   "name": "python3"
  },
  "language_info": {
   "codemirror_mode": {
    "name": "ipython",
    "version": 3
   },
   "file_extension": ".py",
   "mimetype": "text/x-python",
   "name": "python",
   "nbconvert_exporter": "python",
   "pygments_lexer": "ipython3",
   "version": "3.7.3"
  }
 },
 "nbformat": 4,
 "nbformat_minor": 2
}
