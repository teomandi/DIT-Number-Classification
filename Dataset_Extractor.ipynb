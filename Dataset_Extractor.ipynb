{
 "cells": [
  {
   "cell_type": "code",
   "execution_count": 1,
   "metadata": {},
   "outputs": [],
   "source": [
    "import cv2\n",
    "import numpy as np\n",
    "import matplotlib.pyplot as plt\n",
    "import os"
   ]
  },
  {
   "cell_type": "markdown",
   "metadata": {},
   "source": [
    "## Load the grid\n"
   ]
  },
  {
   "cell_type": "code",
   "execution_count": 80,
   "metadata": {},
   "outputs": [],
   "source": [
    "# started_img = cv2.imread(\"number_dataset/sq_grid_20x20_1.jpg\", 1)\n",
    "started_img = cv2.imread(\"number_dataset/sq_grid_10x10_2.jpg\", 1)\n",
    "\n",
    "# cv2.namedWindow(\"output\", cv2.WINDOW_NORMAL)    \n",
    "# cv2.resizeWindow(\"output\", 400, 400) \n",
    "\n",
    "cv2.imshow(\"output\", started_img)\n",
    "cv2.waitKey(0)\n",
    "cv2.destroyAllWindows()"
   ]
  },
  {
   "cell_type": "markdown",
   "metadata": {},
   "source": [
    "## Contours aproach failed"
   ]
  },
  {
   "cell_type": "code",
   "execution_count": 20,
   "metadata": {},
   "outputs": [
    {
     "name": "stdout",
     "output_type": "stream",
     "text": [
      "#C:  139\n"
     ]
    }
   ],
   "source": [
    "# grayscale\n",
    "# gray_grid = cv2.cvtColor(started_img, cv2.COLOR_BGR2GRAY)\n",
    "# cv2.imshow(\"2 gray grid\", started_img)\n",
    "# cv2.waitKey(0)\n",
    "\n",
    "#find edges\n",
    "# edged = cv2.Canny(gray_grid, 30, 200)\n",
    "# cv2.imshow(\"2 edged grid\", started_img)\n",
    "# cv2.waitKey(0)\n",
    "\n",
    "#find contours\n",
    "# contours, h = cv2.findContours(edged, cv2.RETR_EXTERNAL, cv2.CHAIN_APPROX_NONE)\n",
    "# cv2.imshow(\"CANY + CONTOURS\", edged)\n",
    "# cv2.waitKey(0)\n",
    "# print(\"#C: \", len(contours))\n",
    "\n",
    "#draw them\n",
    "# cv2.drawContours(started_img, contours[-1], -1, (0,255,0))\n",
    "# cv2.imshow(\"2 CONTOURS DRAW\", started_img)\n",
    "# cv2.waitKey(0)\n",
    "\n",
    "\n",
    "# plt.imshow(started_img)\n",
    "# plt.show()"
   ]
  },
  {
   "cell_type": "markdown",
   "metadata": {},
   "source": [
    "## Get the points \n"
   ]
  },
  {
   "cell_type": "code",
   "execution_count": 82,
   "metadata": {},
   "outputs": [],
   "source": [
    "#for 10x10\n",
    "# A = (40, 30)\n",
    "# B = (660, 30)\n",
    "# C = (660, 690)\n",
    "# D = (40, 690)\n",
    "\n",
    "# for 10x10\n",
    "# A = (44, 19)\n",
    "# B = (654, 19)\n",
    "# C = (654, 528)\n",
    "# D = (44, 528)\n",
    "\n",
    "# 1\n",
    "# A = (97, 110)\n",
    "# B = (1548, 146)\n",
    "# C = (1529, 1651)\n",
    "# D = (109, 1666)\n",
    "\n",
    "# 1.2 10x10\n",
    "# A = (27, 16)\n",
    "# B = (1651, 1)\n",
    "# C = (1651, 1339)\n",
    "# D = (46, 1339)\n",
    "\n",
    "# 1.2\n",
    "A = (65, 108)\n",
    "B = (1616, 73)\n",
    "C = (1652, 1394)\n",
    "D = (27, 1339)"
   ]
  },
  {
   "cell_type": "code",
   "execution_count": null,
   "metadata": {},
   "outputs": [],
   "source": [
    "# draw_img = started_img.copy()\n",
    "#draw circles there\n",
    "# cv2.circle(draw_img, A, 2, (255,0,255), thickness=1)\n",
    "# cv2.circle(draw_img, B, 2, (255,0,255), thickness=1)\n",
    "# cv2.circle(draw_img, D, 2, (255,0,255), thickness=1)\n",
    "# cv2.circle(draw_img, C, 2, (255,0,255), thickness=1)\n",
    "# cv2.imshow(\"2 cricles\", draw_img)\n",
    "# cv2.waitKey(0)\n",
    "# cv2.destroyAllWindows()\n",
    "\n",
    "# cv2.imwrite(\"?\", draw_img)"
   ]
  },
  {
   "cell_type": "markdown",
   "metadata": {},
   "source": [
    "### 20x20"
   ]
  },
  {
   "cell_type": "code",
   "execution_count": 41,
   "metadata": {},
   "outputs": [],
   "source": [
    "# size = (620,660)\n",
    "size = (1451,1505) #1\n",
    "\n",
    "\n",
    "point_A = np.float32([list(A),list(B),list(C),list(D)])\n",
    "\n",
    "# point_A = np.float32([[40,30],[660,30],[660,690],[40,690]])\n",
    "point_B = np.float32([[0,0],[size[0],0],[size[0],size[1]],[0,size[1]]])\n",
    "\n",
    "vert_boxes = 20\n",
    "hor_boxes = 20\n",
    "\n",
    "padding_x0 = 2\n",
    "padding_x1 = 1\n",
    "\n",
    "padding_y = 1"
   ]
  },
  {
   "cell_type": "markdown",
   "metadata": {},
   "source": [
    "### 10x10"
   ]
  },
  {
   "cell_type": "code",
   "execution_count": 83,
   "metadata": {},
   "outputs": [],
   "source": [
    "# size = (606,508) \n",
    "# size= (1602, 1323) # 1.1\n",
    "size= (1551, 1231) # 1.2\n",
    "\n",
    "\n",
    "point_A = np.float32([list(A),list(B),list(C),list(D)])\n",
    "point_B = np.float32([[0,0],[size[0],0],[size[0],size[1]],[0,size[1]]])\n",
    "\n",
    "vert_boxes = 10\n",
    "hor_boxes = 10\n",
    "\n",
    "\n",
    "padding_x0 = 0\n",
    "padding_x1 = 30\n",
    "\n",
    "padding_y = 1"
   ]
  },
  {
   "cell_type": "markdown",
   "metadata": {},
   "source": [
    "---"
   ]
  },
  {
   "cell_type": "markdown",
   "metadata": {},
   "source": [
    "## Get the perspective transform"
   ]
  },
  {
   "cell_type": "code",
   "execution_count": 88,
   "metadata": {},
   "outputs": [],
   "source": [
    "M = cv2.getPerspectiveTransform(point_A, point_B)\n",
    "grid = cv2.warpPerspective(started_img, M, size)\n",
    "\n",
    "cv2.imshow(\"perspective\", grid)\n",
    "cv2.waitKey(0)\n",
    "cv2.destroyAllWindows()"
   ]
  },
  {
   "cell_type": "code",
   "execution_count": 90,
   "metadata": {},
   "outputs": [
    {
     "name": "stdout",
     "output_type": "stream",
     "text": [
      "(1231, 1551, 3)\n",
      "5 ) cell shape:  (110, 110, 3)\n",
      "5 ) cell shape:  (110, 110, 3)\n",
      "5 ) cell shape:  (110, 110, 3)\n",
      "5 ) cell shape:  (110, 110, 3)\n",
      "5 ) cell shape:  (110, 110, 3)\n",
      "5 ) cell shape:  (110, 110, 3)\n",
      "5 ) cell shape:  (110, 110, 3)\n",
      "5 ) cell shape:  (110, 110, 3)\n",
      "5 ) cell shape:  (110, 110, 3)\n",
      "5 ) cell shape:  (110, 110, 3)\n",
      "5 ) cell shape:  (110, 110, 3)\n",
      "5 ) cell shape:  (110, 110, 3)\n",
      "5 ) cell shape:  (110, 110, 3)\n",
      "5 ) cell shape:  (110, 110, 3)\n",
      "5 ) cell shape:  (110, 110, 3)\n",
      "5 ) cell shape:  (110, 110, 3)\n",
      "5 ) cell shape:  (110, 110, 3)\n",
      "5 ) cell shape:  (110, 110, 3)\n",
      "5 ) cell shape:  (110, 110, 3)\n",
      "5 ) cell shape:  (110, 110, 3)\n",
      "6 ) cell shape:  (110, 110, 3)\n",
      "6 ) cell shape:  (110, 110, 3)\n",
      "6 ) cell shape:  (110, 110, 3)\n",
      "6 ) cell shape:  (110, 110, 3)\n",
      "6 ) cell shape:  (110, 110, 3)\n",
      "6 ) cell shape:  (110, 110, 3)\n",
      "6 ) cell shape:  (110, 110, 3)\n",
      "6 ) cell shape:  (110, 110, 3)\n",
      "6 ) cell shape:  (110, 110, 3)\n",
      "6 ) cell shape:  (110, 110, 3)\n",
      "6 ) cell shape:  (110, 110, 3)\n",
      "6 ) cell shape:  (110, 110, 3)\n",
      "6 ) cell shape:  (110, 110, 3)\n",
      "6 ) cell shape:  (110, 110, 3)\n",
      "6 ) cell shape:  (110, 110, 3)\n",
      "6 ) cell shape:  (110, 110, 3)\n",
      "6 ) cell shape:  (110, 110, 3)\n",
      "6 ) cell shape:  (110, 110, 3)\n",
      "6 ) cell shape:  (110, 110, 3)\n",
      "6 ) cell shape:  (110, 110, 3)\n",
      "7 ) cell shape:  (110, 110, 3)\n",
      "7 ) cell shape:  (110, 110, 3)\n",
      "7 ) cell shape:  (110, 110, 3)\n",
      "7 ) cell shape:  (110, 110, 3)\n",
      "7 ) cell shape:  (110, 110, 3)\n",
      "7 ) cell shape:  (110, 110, 3)\n",
      "7 ) cell shape:  (110, 110, 3)\n",
      "7 ) cell shape:  (110, 110, 3)\n",
      "7 ) cell shape:  (110, 110, 3)\n",
      "7 ) cell shape:  (110, 110, 3)\n",
      "7 ) cell shape:  (110, 110, 3)\n",
      "7 ) cell shape:  (110, 110, 3)\n",
      "7 ) cell shape:  (110, 110, 3)\n",
      "7 ) cell shape:  (110, 110, 3)\n",
      "7 ) cell shape:  (110, 110, 3)\n",
      "7 ) cell shape:  (110, 110, 3)\n",
      "7 ) cell shape:  (110, 110, 3)\n",
      "7 ) cell shape:  (110, 110, 3)\n",
      "7 ) cell shape:  (110, 110, 3)\n",
      "7 ) cell shape:  (110, 110, 3)\n",
      "8 ) cell shape:  (110, 110, 3)\n",
      "8 ) cell shape:  (110, 110, 3)\n",
      "8 ) cell shape:  (110, 110, 3)\n",
      "8 ) cell shape:  (110, 110, 3)\n",
      "8 ) cell shape:  (110, 110, 3)\n",
      "8 ) cell shape:  (110, 110, 3)\n",
      "8 ) cell shape:  (110, 110, 3)\n",
      "8 ) cell shape:  (110, 110, 3)\n",
      "8 ) cell shape:  (110, 110, 3)\n",
      "8 ) cell shape:  (110, 110, 3)\n",
      "8 ) cell shape:  (110, 110, 3)\n",
      "8 ) cell shape:  (110, 110, 3)\n",
      "8 ) cell shape:  (110, 110, 3)\n",
      "8 ) cell shape:  (110, 110, 3)\n",
      "8 ) cell shape:  (110, 110, 3)\n",
      "8 ) cell shape:  (110, 110, 3)\n",
      "8 ) cell shape:  (110, 110, 3)\n",
      "8 ) cell shape:  (110, 110, 3)\n",
      "8 ) cell shape:  (110, 110, 3)\n",
      "8 ) cell shape:  (110, 110, 3)\n",
      "9 ) cell shape:  (110, 110, 3)\n",
      "9 ) cell shape:  (110, 110, 3)\n",
      "9 ) cell shape:  (110, 110, 3)\n",
      "9 ) cell shape:  (110, 110, 3)\n",
      "9 ) cell shape:  (110, 110, 3)\n",
      "9 ) cell shape:  (110, 110, 3)\n",
      "9 ) cell shape:  (110, 110, 3)\n",
      "9 ) cell shape:  (110, 110, 3)\n",
      "9 ) cell shape:  (110, 110, 3)\n",
      "9 ) cell shape:  (110, 110, 3)\n",
      "9 ) cell shape:  (110, 110, 3)\n",
      "9 ) cell shape:  (110, 110, 3)\n",
      "9 ) cell shape:  (110, 110, 3)\n",
      "9 ) cell shape:  (110, 110, 3)\n",
      "9 ) cell shape:  (110, 110, 3)\n",
      "9 ) cell shape:  (110, 110, 3)\n",
      "9 ) cell shape:  (110, 110, 3)\n",
      "9 ) cell shape:  (110, 110, 3)\n",
      "9 ) cell shape:  (110, 110, 3)\n",
      "9 ) cell shape:  (110, 110, 3)\n"
     ]
    }
   ],
   "source": [
    "# get the boxes from the warped image\n",
    "\n",
    "box_width = int(grid.shape[0]/hor_boxes)\n",
    "box_height = int(grid.shape[1]/hor_boxes)\n",
    "print(grid.shape)\n",
    "# print(\"cell shape: \",box_width,\", \", box_height)\n",
    "\n",
    "exp =1\n",
    "indexing = 4 # -1 or \n",
    "\n",
    "store_dir = os.path.join(\"number_dataset\",\"10x10_gridset_i\"+str(exp))\n",
    "if not os.path.isdir(store_dir):\n",
    "    os.mkdir(store_dir)\n",
    "\n",
    "for i in range(vert_boxes):\n",
    "    if i%2==0 :\n",
    "        indexing +=1\n",
    "    for j in range(hor_boxes):\n",
    "        \n",
    "#         num_cell = grid[\n",
    "#             i*box_width+padding_x0:(i+1)*box_width-padding_x1,\n",
    "#             j*box_height+padding_y:(j+1)*box_height\n",
    "#         ]\n",
    "\n",
    "        num_cell = grid[\n",
    "            i*box_width+10:(i+1)*box_width-3,  # <--- this is height\n",
    "            j*box_height+20:(j+1)*box_height-25  # <-- this is width\n",
    "        ]\n",
    "        \n",
    "#         pos = int(num_cell.shape[0]/2), int(num_cell.shape[1]/2)\n",
    "#         cv2.circle(num_cell, pos, 2, (255,0,255), thickness=1)\n",
    "            \n",
    "        print(indexing, \") cell shape: \", num_cell.shape)\n",
    "        \n",
    "        \n",
    "        cv2.imwrite(os.path.join(\n",
    "            store_dir, \n",
    "            str(indexing) + \"_\" + str(exp) + \"_\" + str(i) + \"x\" + str(j) + \".jpg\"\n",
    "        ), num_cell)\n",
    "\n",
    "        \n",
    "#         cv2.imshow(\"??cell\", num_cell)\n",
    "#         cv2.waitKey(0)\n",
    "#         cv2.destroyAllWindows()\n",
    "#         break\n",
    "#     break        \n",
    "        "
   ]
  },
  {
   "cell_type": "code",
   "execution_count": 15,
   "metadata": {},
   "outputs": [],
   "source": [
    "cv2.destroyAllWindows()"
   ]
  },
  {
   "cell_type": "code",
   "execution_count": 11,
   "metadata": {},
   "outputs": [],
   "source": []
  },
  {
   "cell_type": "code",
   "execution_count": null,
   "metadata": {},
   "outputs": [],
   "source": []
  }
 ],
 "metadata": {
  "kernelspec": {
   "display_name": "Python 3",
   "language": "python",
   "name": "python3"
  },
  "language_info": {
   "codemirror_mode": {
    "name": "ipython",
    "version": 3
   },
   "file_extension": ".py",
   "mimetype": "text/x-python",
   "name": "python",
   "nbconvert_exporter": "python",
   "pygments_lexer": "ipython3",
   "version": "3.7.3"
  }
 },
 "nbformat": 4,
 "nbformat_minor": 2
}
