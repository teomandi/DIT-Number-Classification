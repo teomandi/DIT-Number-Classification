{
 "cells": [
  {
   "cell_type": "markdown",
   "metadata": {},
   "source": [
    "## Imports"
   ]
  },
  {
   "cell_type": "code",
   "execution_count": 2,
   "metadata": {},
   "outputs": [],
   "source": [
    "import os\n",
    "import numpy as np\n",
    "import matplotlib.pyplot as plt\n",
    "import keras\n",
    "\n",
    "from scipy.io import loadmat\n",
    "import keras.layers as l\n",
    "import keras.backend as K\n",
    "# import keras.callbacks.callbacks.EarlyStopping\n",
    "\n",
    "import keras.optimizers as o\n",
    "import keras.models as m\n",
    "from keras.utils import to_categorical"
   ]
  },
  {
   "cell_type": "markdown",
   "metadata": {},
   "source": [
    "## Load the dataset"
   ]
  },
  {
   "cell_type": "code",
   "execution_count": 3,
   "metadata": {
    "scrolled": true
   },
   "outputs": [
    {
     "name": "stdout",
     "output_type": "stream",
     "text": [
      "x data shape:  (73257, 32, 32, 3)\n"
     ]
    },
    {
     "data": {
      "text/plain": [
       "<matplotlib.image.AxesImage at 0x7f6e691b54e0>"
      ]
     },
     "execution_count": 3,
     "metadata": {},
     "output_type": "execute_result"
    },
    {
     "data": {
      "image/png": "[encoded data removed]",
      "text/plain": [
       "<Figure size 432x288 with 1 Axes>"
      ]
     },
     "metadata": {
      "needs_background": "light"
     },
     "output_type": "display_data"
    }
   ],
   "source": [
    "SVHN_directory = os.path.join(\"SVHN_dataset\", \"train_32x32.mat\")\n",
    "\n",
    "# load .mat file\n",
    "data_raw = loadmat(SVHN_directory)\n",
    "data = np.array(data_raw['X'])\n",
    "\n",
    "# make correct shape\n",
    "data = np.moveaxis(data, -1, 0)\n",
    "\n",
    "# normalize\n",
    "data = keras.utils.normalize(data, axis=1)\n",
    "\n",
    "print(\"x data shape: \", data.shape)\n",
    "plt.imshow(data[9])"
   ]
  },
  {
   "cell_type": "markdown",
   "metadata": {},
   "source": [
    "## Loading and fixing the Labels"
   ]
  },
  {
   "cell_type": "code",
   "execution_count": 4,
   "metadata": {},
   "outputs": [
    {
     "name": "stdout",
     "output_type": "stream",
     "text": [
      "y label shape:  (73257, 10)\n"
     ]
    }
   ],
   "source": [
    "labels = data_raw['y']\n",
    "\n",
    "# fixing zeros to be label 0\n",
    "labels[labels == 10] = 0\n",
    "\n",
    "# to categorical\n",
    "labels = to_categorical(labels.reshape([-1, 1]))\n",
    "\n",
    "\n",
    "print(\"y label shape: \", labels.shape)"
   ]
  },
  {
   "cell_type": "code",
   "execution_count": 5,
   "metadata": {},
   "outputs": [
    {
     "name": "stdout",
     "output_type": "stream",
     "text": [
      "(7326, 32, 32, 3)\n"
     ]
    }
   ],
   "source": [
    "# validation data: 7326 random images from train\n",
    "import random\n",
    "\n",
    "my_seed = int(10*random.random())\n",
    "random.Random(my_seed).shuffle(data)\n",
    "random.Random(my_seed).shuffle(labels)\n",
    "\n",
    "val_data, val_labels = data[:7326], labels[:7326]\n",
    "print(val_data.shape)"
   ]
  },
  {
   "cell_type": "markdown",
   "metadata": {},
   "source": [
    "## Make the requested model"
   ]
  },
  {
   "cell_type": "code",
   "execution_count": 8,
   "metadata": {},
   "outputs": [
    {
     "name": "stdout",
     "output_type": "stream",
     "text": [
      "Model: \"sequential_3\"\n",
      "_________________________________________________________________\n",
      "Layer (type)                 Output Shape              Param #   \n",
      "=================================================================\n",
      "conv2d_7 (Conv2D)            (None, 32, 32, 9)         252       \n",
      "_________________________________________________________________\n",
      "max_pooling2d_7 (MaxPooling2 (None, 10, 10, 9)         0         \n",
      "_________________________________________________________________\n",
      "conv2d_8 (Conv2D)            (None, 10, 10, 36)        2952      \n",
      "_________________________________________________________________\n",
      "max_pooling2d_8 (MaxPooling2 (None, 3, 3, 36)          0         \n",
      "_________________________________________________________________\n",
      "conv2d_9 (Conv2D)            (None, 3, 3, 49)          15925     \n",
      "_________________________________________________________________\n",
      "max_pooling2d_9 (MaxPooling2 (None, 1, 1, 49)          0         \n",
      "_________________________________________________________________\n",
      "flatten_3 (Flatten)          (None, 49)                0         \n",
      "_________________________________________________________________\n",
      "dense_3 (Dense)              (None, 10)                500       \n",
      "=================================================================\n",
      "Total params: 19,629\n",
      "Trainable params: 19,629\n",
      "Non-trainable params: 0\n",
      "_________________________________________________________________\n"
     ]
    }
   ],
   "source": [
    "model = m.Sequential()\n",
    "\n",
    "model.add(l.Conv2D(9, (3,3), padding='same', activation='relu', input_shape = (32, 32, 3)))\n",
    "model.add(l.MaxPooling2D((3,3)))\n",
    "\n",
    "model.add(l.Conv2D(36, (3,3), padding='same', activation='relu'))\n",
    "model.add(l.MaxPooling2D((3,3)))\n",
    "\n",
    "model.add(l.Conv2D(49, (3,3), padding='same', activation='relu'))\n",
    "model.add(l.MaxPooling2D((3,3)))\n",
    "\n",
    "model.add(l.Flatten()) \n",
    "model.add(l.Dense(10, activation='softmax')) ## edw μαλλον dn 8elei 1\n",
    "\n",
    "model.compile(\n",
    "    optimizer=o.Adam(),\n",
    "    loss='categorical_crossentropy',\n",
    "    metrics=['accuracy']\n",
    ")\n",
    "model.summary()"
   ]
  },
  {
   "cell_type": "code",
   "execution_count": 9,
   "metadata": {},
   "outputs": [
    {
     "name": "stdout",
     "output_type": "stream",
     "text": [
      "Train on 73257 samples, validate on 7326 samples\n",
      "Epoch 1/4\n",
      "73257/73257 [==============================] - 21s 283us/step - loss: 1.5792 - accuracy: 0.4618 - val_loss: 1.0589 - val_accuracy: 0.6601\n",
      "Epoch 2/4\n",
      "73257/73257 [==============================] - 20s 274us/step - loss: 0.9541 - accuracy: 0.7026 - val_loss: 0.8217 - val_accuracy: 0.7443\n",
      "Epoch 3/4\n",
      "73257/73257 [==============================] - 21s 282us/step - loss: 0.7890 - accuracy: 0.7591 - val_loss: 0.6687 - val_accuracy: 0.7974\n",
      "Epoch 4/4\n",
      "73257/73257 [==============================] - 20s 280us/step - loss: 0.6945 - accuracy: 0.7879 - val_loss: 0.5621 - val_accuracy: 0.8265\n"
     ]
    },
    {
     "data": {
      "text/plain": [
       "<keras.callbacks.callbacks.History at 0x7f6e5caaa4e0>"
      ]
     },
     "execution_count": 9,
     "metadata": {},
     "output_type": "execute_result"
    }
   ],
   "source": [
    "from keras.callbacks.callbacks import EarlyStopping\n",
    "es = EarlyStopping(monitor='val_loss', min_delta=0, patience=0, verbose=0, mode='auto', baseline=None, restore_best_weights=False)\n",
    "\n",
    "model.fit(data, labels, epochs=4, callbacks=[es], validation_data=(val_data, val_labels))"
   ]
  },
  {
   "cell_type": "markdown",
   "metadata": {},
   "source": [
    "## Predict - Evaluate - Confussion Matrix"
   ]
  },
  {
   "cell_type": "code",
   "execution_count": 48,
   "metadata": {},
   "outputs": [],
   "source": [
    "predictions = model.predict([val_data])"
   ]
  },
  {
   "cell_type": "code",
   "execution_count": 50,
   "metadata": {},
   "outputs": [
    {
     "name": "stdout",
     "output_type": "stream",
     "text": [
      "[[ 434   33    8    6    3    3    1    0    9    3]\n",
      " [   4 1385   11   19   35    5    2    4   21    3]\n",
      " [   0   48  863   30   32    1    9    2   22    6]\n",
      " [   9   44   13  714   16   32    4    1   17    4]\n",
      " [   4   37    6   15  738    6    3    0    5    2]\n",
      " [   0   14    3   89   18  546   26    0   36    4]\n",
      " [   4   20    3   22   20   28  331    0   64    1]\n",
      " [   0   53   20   26    1    6    0  352    3    1]\n",
      " [   4   25   12   19   21    5   12    1  421    9]\n",
      " [  20   25    4   15   16   17    0    0   50  287]]\n"
     ]
    }
   ],
   "source": [
    "from sklearn.metrics import confusion_matrix\n",
    "\n",
    "real_results = []\n",
    "predictive_results = []\n",
    "for i in range(len(val_labels)):\n",
    "    real_results.append(np.argmax(val_labels[i]))\n",
    "    predictive_results.append(np.argmax(predictions[i]))\n",
    "\n",
    "print(confusion_matrix(real_results, predictive_results, labels=[0,1,2,3,4,5,6,7,8,9]))"
   ]
  },
  {
   "cell_type": "code",
   "execution_count": null,
   "metadata": {},
   "outputs": [],
   "source": []
  }
 ],
 "metadata": {
  "kernelspec": {
   "display_name": "Python 3",
   "language": "python",
   "name": "python3"
  },
  "language_info": {
   "codemirror_mode": {
    "name": "ipython",
    "version": 3
   },
   "file_extension": ".py",
   "mimetype": "text/x-python",
   "name": "python",
   "nbconvert_exporter": "python",
   "pygments_lexer": "ipython3",
   "version": "3.7.3"
  }
 },
 "nbformat": 4,
 "nbformat_minor": 2
}
